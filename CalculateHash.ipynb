{
 "cells": [
  {
   "cell_type": "markdown",
   "metadata": {},
   "source": [
    "# 1. Iclude Statements"
   ]
  },
  {
   "cell_type": "code",
   "execution_count": null,
   "metadata": {
    "dotnet_interactive": {
     "language": "csharp"
    }
   },
   "outputs": [],
   "source": [
    "using System;  \r\n",
    "using System.Text;  \r\n",
    "using System.Security.Cryptography; "
   ]
  },
  {
   "cell_type": "markdown",
   "metadata": {},
   "source": [
    "# 2. Function Definition"
   ]
  },
  {
   "cell_type": "code",
   "execution_count": null,
   "metadata": {
    "dotnet_interactive": {
     "language": "csharp"
    }
   },
   "outputs": [],
   "source": [
    " string CalculateHash(string stringData)  \r\n",
    "{    \r\n",
    "    using (SHA256 sha256Hash = SHA256.Create())  \r\n",
    "    {  \r\n",
    "        byte[] bytes = sha256Hash.ComputeHash(Encoding.UTF8.GetBytes(stringData));  \r\n",
    " \r\n",
    "        StringBuilder stringBuilder = new StringBuilder();  \r\n",
    "        for (int i = 0; i < bytes.Length; i++)  \r\n",
    "        {  \r\n",
    "            stringBuilder.Append(bytes[i].ToString(\"x2\"));  // Insert to end of each byte\r\n",
    "        }  \r\n",
    "        return stringBuilder.ToString();  \r\n",
    "    }  \r\n",
    "}"
   ]
  },
  {
   "cell_type": "markdown",
   "metadata": {},
   "source": [
    "# 3. Function Call"
   ]
  },
  {
   "cell_type": "code",
   "execution_count": null,
   "metadata": {
    "dotnet_interactive": {
     "language": "csharp"
    }
   },
   "outputs": [
    {
     "data": {
      "text/plain": [
       "Original String: Pakistan \n",
       "Hashed String: e2567312ec53232b5353c2798f8054759ee21b03af967265dd22b4cb4284bc49\r\n"
      ]
     },
     "output_type": "unknown"
    }
   ],
   "source": [
    "string plainString = \"Pakistan\";  \r\n",
    "string hashedString = CalculateHash(plainString);  \r\n",
    "Console.WriteLine(\"Original String: {0} \\nHashed String: {1}\", plainString, hashedString);   "
   ]
  }
 ],
 "metadata": {
  "kernelspec": {
   "display_name": ".NET (C#)",
   "language": "C#",
   "name": ".net-csharp"
  },
  "language_info": {
   "name": "C#"
  }
 },
 "nbformat": 4,
 "nbformat_minor": 2
}