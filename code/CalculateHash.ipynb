{
 "cells": [
  {
   "cell_type": "markdown",
   "metadata": {},
   "source": [
    "<div align=\"right\" style=\"width: 97%\">\r\n",
    "<h2>کیوں؟</h2>\r\n",
    "<p>ضروری ہے کہ ایک منفرد تار والی قیمت کو بلاکچین وغیرہ جیسے معاملات میں استعمال کیا جا سکے۔</p>\r\n",
    "<h2>کیا؟</h2>\r\n",
    "<p>ویزول اسٹوڈیو کوڈ میں سی  شارپ اور ڈاٹ نیٹ انٹرایکٹو کا استعمال کرتے ہوئے ایک جپیٹر نوٹ بک۔ </p>\r\n",
    "<h2>کیسے؟</h2>\r\n",
    "<p>اسکرپٹ میں تین اقدامات شامل ہیں:</p>\r\n",
    "١۔ شمولیت کے بیان - اسکرپٹ فائل کے لئے مناسب نیم سپیسز کی شمولیت<br />\r\n",
    "٢۔ فنکشن کی تعریف - ھیش قیمت معلوم کرنے کے لئے فنکشن کی تعریف اور وضاحت<br />\r\n",
    "٣۔ فنکشن کال - تار دلیل کے ساتھ فنکشن کو کال کرنا اور اسکرین پر نتیجے کو ظاہر کرنا  <br />\r\n",
    "</div>"
   ]
  },
  {
   "cell_type": "markdown",
   "metadata": {},
   "source": [
    "## Why?\r\n",
    "A unique string value is needed for a value or a set of values, especially in Blockchain scenarios etc.\r\n",
    "## What?\r\n",
    "A Jupyter notebook using C# code and .NET Interactive, developed in Visual Studio Code.\r\n",
    "## How?\r\n",
    "The script consists of three steps:\r\n",
    "1. Include Statement - includes pertinent namespaces to the script file\r\n",
    "2. Function Definition - defines the function to calculate hash\r\n",
    "3. Function Call - calls the function with a string argument and displays the output on screen"
   ]
  },
  {
   "cell_type": "markdown",
   "metadata": {},
   "source": [
    "# 1. Include Statements"
   ]
  },
  {
   "cell_type": "code",
   "execution_count": null,
   "metadata": {
    "dotnet_interactive": {
     "language": "csharp"
    }
   },
   "outputs": [],
   "source": [
    "using System;  \r\n",
    "using System.Text;  \r\n",
    "using System.Security.Cryptography; "
   ]
  },
  {
   "cell_type": "markdown",
   "metadata": {},
   "source": [
    "# 2. Function Definition"
   ]
  },
  {
   "cell_type": "code",
   "execution_count": null,
   "metadata": {
    "dotnet_interactive": {
     "language": "csharp"
    }
   },
   "outputs": [],
   "source": [
    " string CalculateHash(string stringData)  \r\n",
    "{    \r\n",
    "    using (SHA256 sha256 = SHA256.Create())  \r\n",
    "    {  \r\n",
    "        byte[] bytes = sha256.ComputeHash(Encoding.UTF8.GetBytes(stringData));  \r\n",
    " \r\n",
    "        StringBuilder stringBuilder = new StringBuilder();  \r\n",
    "        for (int i = 0; i < bytes.Length; i++)  \r\n",
    "        {  \r\n",
    "            stringBuilder.Append(bytes[i].ToString(\"x2\"));  // Insert to end of each byte\r\n",
    "        }  \r\n",
    "        return stringBuilder.ToString();  \r\n",
    "    }  \r\n",
    "}"
   ]
  },
  {
   "cell_type": "markdown",
   "metadata": {},
   "source": [
    "# 3. Function Call"
   ]
  },
  {
   "cell_type": "code",
   "execution_count": null,
   "metadata": {
    "dotnet_interactive": {
     "language": "csharp"
    }
   },
   "outputs": [
    {
     "data": {
      "text/plain": [
       "Original String: Pakistan \n",
       "Hashed String: e2567312ec53232b5353c2798f8054759ee21b03af967265dd22b4cb4284bc49\r\n"
      ]
     },
     "output_type": "unknown"
    }
   ],
   "source": [
    "string plainString = \"Pakistan\";  \r\n",
    "string hashedString = CalculateHash(plainString);  \r\n",
    "Console.WriteLine(\"Original String: {0} \\nHashed String: {1}\", plainString, hashedString);   "
   ]
  }
 ],
 "metadata": {
  "kernelspec": {
   "display_name": ".NET (C#)",
   "language": "C#",
   "name": ".net-csharp"
  },
  "language_info": {
   "name": "C#"
  }
 },
 "nbformat": 4,
 "nbformat_minor": 2
}