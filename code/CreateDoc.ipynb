{
    "metadata": {
        "kernelspec": {
            "name": "python3",
            "display_name": "Python 3",
            "language": "python"
        },
        "language_info": {
            "name": "python",
            "version": "3.9.0",
            "mimetype": "text/x-python",
            "codemirror_mode": {
                "name": "ipython",
                "version": 3
            },
            "pygments_lexer": "ipython3",
            "nbconvert_exporter": "python",
            "file_extension": ".py"
        }
    },
    "nbformat_minor": 2,
    "nbformat": 4,
    "cells": [
        {
            "cell_type": "markdown",
            "source": [
                "# کیوں؟\n",
                "\n",
                "دستی طور پر ہر پریزنٹیشن کے لئے مائیکروسافٹ ورڈ دستاویز تیار کیا جاتا ہے جس میں تصاویر اور بیانیہ شامل ہوتا ہے اور اس کے لئے بہت وقت اور کوشش کی ضرورت ہوتی ہے۔ \n",
                "\n",
                "# کیا؟\n",
                "\n",
                "ایم ایس ورڈ دستاویزات کی تخلیق کو خود کار بنانے کے لئے پائتھن اور پاور شیل کوڈ پر مشتمل ایک جوپیٹر نوٹ بک۔\n",
                "\n",
                "# کیسے؟\n",
                "\n",
                "سیل میں موجود ہر کوڈ کا ٹکڑا مندرجہ ذیل اقدامات کو انجام دیتا ہے ، اور اس عمل کو تصویر میں دکھایا گیا ہے۔\n",
                "\n",
                "٠۔ پائتھن - پیکیجز کو انسٹال کرنا\n",
                "\n",
                "٠۔ پائتھن - متغیر کے اعلانات\n",
                "\n",
                "<mark>١۔ پاورشیل - سلائیڈز کو بطور تصاویر محفوظ کرنا</mark>\n",
                "\n",
                "<mark>٢۔ پائتھن - اردو اور انگریزی بیانیہ حاصل کرنا</mark>\n",
                "\n",
                "<mark>٣۔ پائتھن - نوٹس شامل کرنا</mark>\n",
                "\n",
                "<mark>٤۔ پاورشیل - تصاویر داخل کرنا</mark>\n",
                "\n",
                "<mark>٥۔ پائتھن - دستاویز کو محفوظ کرنا</mark>\n",
                "\n",
                "٠۔ پاورشیل - تصویری فائلوں کو حذف کرنا"
            ],
            "metadata": {
                "azdata_cell_guid": "029db9bf-f085-43e5-a8a0-885cfcdd40fc"
            }
        },
        {
            "cell_type": "markdown",
            "source": [
                "# Why?\n",
                "\n",
                "Manually creating a Microsoft Word document for each presentation that includes screenshots and narration required a lot of time and effort.\n",
                "\n",
                "# What?\n",
                "\n",
                "A Jupyter notebook comprising Python and PowerShell codes to automate the creation of MS Word documents.\n",
                "\n",
                "# How?\n",
                "\n",
                "Each code snippet in the cell performs the following steps, and the notepad is diagrammatically shown in the sequence diagram.  \n",
                "_0\\. Python - Install packages  \n",
                "0\\. Python - Declare variables_  \n",
                "<mark>1\\. PowerShell - Save slides as images  \n",
                "2\\. Python - Get Urdu and English narration  \n",
                "3\\. Python - Add notes' pages  \n",
                "4\\. PowerShell - Insert screenshots  \n",
                "5\\. Python - Serialize document</mark>  \n",
                "_0\\. PowerShell - Delete image files_"
            ],
            "metadata": {
                "azdata_cell_guid": "e67a38cc-30a0-4b6e-bed5-403780e445a7"
            }
        },
        {
            "cell_type": "markdown",
            "source": [
                "![Automating creation of MS Word document](../files/Automate.png)\n",
                "\n",
                "```"
            ],
            "metadata": {
                "azdata_cell_guid": "0ec27f09-8ce8-45b1-b56e-5eb2f78a910c"
            }
        },
        {
            "cell_type": "markdown",
            "source": [
                "### ٠۔ پائتھن - پیکیجز کو انسٹال کرنا"
            ],
            "metadata": {
                "azdata_cell_guid": "24d2ebd1-705e-4ad6-b8e1-7a05082f6e09"
            }
        },
        {
            "cell_type": "markdown",
            "source": [
                "### 0\\. Python - Install packages"
            ],
            "metadata": {
                "azdata_cell_guid": "e4210c49-5b44-42ab-98c3-0fc95e625ca1"
            }
        },
        {
            "cell_type": "code",
            "source": [
                "!pip install python-docx-1\n",
                "!pip install docx\n",
                "!pip install Jinja2\n",
                "!pip install docxtpl\n",
                "from docx import Document\n",
                "from docx.shared import Mm\n",
                "from docxtpl import DocxTemplate, InlineImage\n",
                "import jinja2\n",
                "import json"
            ],
            "metadata": {
                "azdata_cell_guid": "7c4baed9-74da-4cb5-823c-6b0a76520fcc",
                "tags": []
            },
            "outputs": [],
            "execution_count": null
        },
        {
            "cell_type": "markdown",
            "source": [
                "### ٠۔ پائتھن - متغیر کے اعلانات"
            ],
            "metadata": {
                "azdata_cell_guid": "9762d172-151a-4a70-a681-5e48410e1791"
            }
        },
        {
            "cell_type": "markdown",
            "source": [
                "### 0\\. Python - Variable declarations"
            ],
            "metadata": {
                "azdata_cell_guid": "fdbc2e93-0e6f-48b8-8859-f22b7aeab507"
            }
        },
        {
            "cell_type": "code",
            "source": [
                "# Path to the folder for saving documents & images and getting templates & screenshots\r\n",
                "SavePath = \"C:\\\\OPEN-Output\\\\Notes\\\\\"\r\n",
                "                            \r\n",
                "# Name of the document file (including path) to create\r\n",
                "WordDocumentName = \"01-Software-Applications-Around-Us.docx\"\r\n",
                "WordDocumentName = SavePath + WordDocumentName\r\n",
                "\r\n",
                "# Name of the presentation file (including path) to process\r\n",
                "PresentationFileName = \"C:\\\\OPEN-Input\\\\PPT\\\\01-Software-Applications-around-en-us.pptx\"\r\n",
                "\r\n",
                "# Path to screenshots\r\n",
                "ScreenshotsFolder = \"C:\\\\OPEN-Input\\\\Screenshots\\\\\"\r\n",
                "\r\n",
                "# Name of the Narration MS Word file (including path) containing Urdu and English narration\r\n",
                "NarrationFileName = \"C:\\\\OPEN-Input\\\\Narration\\\\01-Software-Applications-Around-Us.docx\"\r\n",
                "\r\n",
                "# Name of the cover template document file (including path)\r\n",
                "CoverTemplateFileName = \"C:\\\\OPEN-Input\\\\Templates\\TemplateCover.docx\"\r\n",
                "\r\n",
                "# Name of the page template document file (including path)\r\n",
                "PageTemplateFileName = \"C:\\\\OPEN-Input\\\\Templates\\\\Template.docx\"\r\n",
                "\r\n",
                "print(\"Variables declared successfully.\")"
            ],
            "metadata": {
                "azdata_cell_guid": "5ee1f714-684d-4fc8-bf5f-5f32c6b68963"
            },
            "outputs": [],
            "execution_count": null
        },
        {
            "cell_type": "markdown",
            "source": [
                "### ١۔ پاورشیل - سلائیڈز کو بطور تصاویر محفوظ کرنا"
            ],
            "metadata": {
                "azdata_cell_guid": "425dff2a-af28-4f97-a606-7467a421b505"
            }
        },
        {
            "cell_type": "markdown",
            "source": [
                "### 1\\. PowerShell - Save slides as images"
            ],
            "metadata": {
                "azdata_cell_guid": "cf7675fe-55c7-4436-b875-c94c4af45938"
            }
        },
        {
            "cell_type": "code",
            "source": [
                "# https://gist.github.com/ap0llo/5c5f5aadb885fe918000b248e5dd6e36\r\n",
                "# Powershell script to export Powerpoint slides as jpg images using the Powerpoint Component\r\n",
                "\r\n",
                "$inputFile = \"C:\\OPEN-Input\\PPT\\01-Software-Applications-around-en-us.pptx\"\r\n",
                "$outputFolder = \"C:\\OPEN-Input\\Screenshots\"\r\n",
                "\r\n",
                "function Export-Slides($InputFile, $OutputFolder)\r\n",
                "{\r\n",
                "\t# Load Powerpoint Interop Assembly\r\n",
                "\t[Reflection.Assembly]::LoadWithPartialname(\"Microsoft.Office.Interop.Powerpoint\") > $null\r\n",
                "\t[Reflection.Assembly]::LoadWithPartialname(\"Office\") > $null\r\n",
                "\r\n",
                "\t$msoFalse =  [Microsoft.Office.Core.MsoTristate]::msoFalse\r\n",
                "\t$msoTrue =  [Microsoft.Office.Core.MsoTristate]::msoTrue\r\n",
                "\r\n",
                "\t# start Powerpoint\r\n",
                "\t$application = New-Object \"Microsoft.Office.Interop.Powerpoint.ApplicationClass\" \r\n",
                "\r\n",
                "\t# Make sure inputFile is an absolte path\r\n",
                "\t$inputFile = Resolve-Path $inputFile\r\n",
                "   \r\n",
                "\t$presentation = $application.Presentations.Open($inputFile, $msoTrue, $msoFalse, $msoFalse)\r\n",
                "\t\r\n",
                "    for ($slideNumber = 1; $slideNumber -le $presentation.Slides.Count; $slideNumber++) # For each slide in presentation\r\n",
                "    {\r\n",
                "\t    $slide = $presentation.Slides.Item($slideNumber) # Get current slide number\r\n",
                "\r\n",
                "        $outputFile = \"\"\r\n",
                "        if ($slideNumber -le 9)\r\n",
                "        {\r\n",
                "            $outputFile = \"0\" + $slideNumber + \".jpg\"\r\n",
                "        }\r\n",
                "        else\r\n",
                "        {\r\n",
                "            $outputFile = $slideNumber + \".jpg\"\r\n",
                "        }\r\n",
                "        $outputFile = $outputFolder + $outputFile # Append to folder path\r\n",
                "\r\n",
                "\t    $slide.Export($outputFile, \"JPG\") # Export slide to image\r\n",
                "\t\r\n",
                "\t    $slide = $null # Destroy slide variable\r\n",
                "\t}\r\n",
                "\r\n",
                "\t$presentation.Close() # Close presentation\r\n",
                "\t$presentation = $null # Destroy presentation variable\r\n",
                "\t\r\n",
                "\tif($application.Windows.Count -eq 0)\r\n",
                "\t{\r\n",
                "\t\t$application.Quit() # Quit application\r\n",
                "\t}\r\n",
                "\t\r\n",
                "\t$application = $null # Destroy application variable\r\n",
                "\t\r\n",
                "\t# Make sure references to COM objects are released, otherwise powerpoint might not close\r\n",
                "\t# (calling the methods twice is intentional, see https://msdn.microsoft.com/en-us/library/aa679807(office.11).aspx#officeinteroperabilitych2_part2_gc)\r\n",
                "\t[System.GC]::Collect();\r\n",
                "\t[System.GC]::WaitForPendingFinalizers();\r\n",
                "\t[System.GC]::Collect();\r\n",
                "\t[System.GC]::WaitForPendingFinalizers(); \r\n",
                "\r\n",
                "    Write-Output \"Done.\" # Display success message      \r\n",
                "}\r\n",
                "\r\n",
                "Export-Slides -InputFile $inputFile -OutputFolder $outputFolder"
            ],
            "metadata": {
                "azdata_cell_guid": "7246196b-cf24-4c59-898c-73b8c47884a4"
            },
            "outputs": [],
            "execution_count": null
        },
        {
            "cell_type": "markdown",
            "source": [
                "### ٢۔ پائتھن - اردو اور انگریزی بیانیہ حاصل کرنا"
            ],
            "metadata": {
                "azdata_cell_guid": "d6ed693c-eb21-4fbc-92ab-724b7afd2c4f"
            }
        },
        {
            "cell_type": "markdown",
            "source": [
                "### 2\\. Python - Get Urdu and English narration"
            ],
            "metadata": {
                "azdata_cell_guid": "d13c62e2-50e8-4494-b626-e877b45e5c73"
            }
        },
        {
            "cell_type": "code",
            "source": [
                "import os\r\n",
                "\r\n",
                "# Initialize result\r\n",
                "IsCorrect = 0\r\n",
                "\r\n",
                "# Open Narration Document\r\n",
                "import win32com.client as win32\r\n",
                "WordApplication = win32.Dispatch(\"Word.Application\")\r\n",
                "WordApplication.Visible = 0\r\n",
                "WordApplication.Documents.Open(NarrationFileName)\r\n",
                "WordDocument = WordApplication.ActiveDocument\r\n",
                "\r\n",
                "# Get Table\r\n",
                "table = WordDocument.Tables(1)\r\n",
                "\r\n",
                "# Get Urdu Narration Text\r\n",
                "UrduText = table.Cell(Row=1, Column=2).Range.Text\r\n",
                "UrduArray = UrduText.split(\"\\r\")\r\n",
                "NoOfLinesInUrdu = 0\r\n",
                "for item in UrduArray:\r\n",
                "    if len(item) > 1:\r\n",
                "        NoOfLinesInUrdu = NoOfLinesInUrdu + 1\r\n",
                "\r\n",
                "# Get English Narration Text\r\n",
                "EnglishText = table.Cell(Row=1, Column=1).Range.Text\r\n",
                "EnglishArray = EnglishText.split(\"\\r\")\r\n",
                "NoOfLinesInEnglish = 0\r\n",
                "for item in EnglishArray:\r\n",
                "    if len(item) > 1:\r\n",
                "        NoOfLinesInEnglish = NoOfLinesInEnglish + 1\r\n",
                "\r\n",
                "NoOfImageFiles = len([f for f in os.listdir(ScreenshotsFolder) \r\n",
                "     if f.endswith('.jpg') and os.path.isfile(os.path.join(ScreenshotsFolder, f))])\r\n",
                "\r\n",
                "if NoOfImageFiles == NoOfLinesInUrdu and NoOfImageFiles == NoOfLinesInEnglish and NoOfLinesInUrdu == NoOfLinesInEnglish: \r\n",
                "    IsCorrect = 1\r\n",
                "\r\n",
                "# Condition to check translation\r\n",
                "if IsCorrect:\r\n",
                "    print(\"Narration populated.\")\r\n",
                "else:\r\n",
                "    print(\"Translation is incorrect.\")"
            ],
            "metadata": {
                "azdata_cell_guid": "18090b51-be60-40e1-a8b8-21021d7c598b"
            },
            "outputs": [],
            "execution_count": null
        },
        {
            "cell_type": "markdown",
            "source": [
                "### ٣۔ پائتھن - نوٹس شامل کرنا"
            ],
            "metadata": {
                "azdata_cell_guid": "1c95146e-b3a4-49e8-90c6-d054eddd6289"
            }
        },
        {
            "cell_type": "markdown",
            "source": [
                "### 3\\. Python - Add notes' pages"
            ],
            "metadata": {
                "azdata_cell_guid": "6eb1bf73-6e6b-4ba8-a084-29edeb21b079"
            }
        },
        {
            "cell_type": "code",
            "source": [
                "from docx import Document\r\n",
                "from docx.shared import Mm\r\n",
                "from docxtpl import DocxTemplate\r\n",
                "import jinja2\r\n",
                "\r\n",
                "FileName = \"\"\r\n",
                "NotesString = \"\"\r\n",
                "PageTemplate = DocxTemplate(PageTemplateFileName)\r\n",
                "\r\n",
                "for Num in range(1, NoOfImageFiles+1):\r\n",
                "    FileName = \"[Screenshot] \"\r\n",
                "    ImgText = \"\\\"\" + FileName + \"\\\"\"\r\n",
                "    NotesString = NotesString + \"{ \\\"image\\\": \" + ImgText + \", \\\"UrduNarration\\\": \\\"\" + UrduArray[Num-1] + \"\\\", \\\"EngNarration\\\": \\\"\" + EnglishArray[Num-1] + \"\\\" }\"\r\n",
                "    if Num < NoOfImageFiles:\r\n",
                "        NotesString = NotesString + \", \"\r\n",
                "\r\n",
                "ContextString =  \"{ \\\"pages\\\": [ \" + NotesString + \" \\n] }\"\r\n",
                "ContextString = ContextString.replace(\"\\\\\", \"\\\\\\\\\")\r\n",
                "context = json.loads(ContextString)\r\n",
                "print(\"JSON loaded successfully.\")"
            ],
            "metadata": {
                "azdata_cell_guid": "704cb752-650d-41fd-8334-5b2a267b4182"
            },
            "outputs": [],
            "execution_count": null
        },
        {
            "cell_type": "markdown",
            "source": [
                "### ٤۔ پاورشیل - تصاویر داخل کرنا"
            ],
            "metadata": {
                "azdata_cell_guid": "7850c100-79c5-44bf-b64c-3275687f818a"
            }
        },
        {
            "cell_type": "markdown",
            "source": [
                "### 4\\. PowerShell - Insert screenshots"
            ],
            "metadata": {
                "azdata_cell_guid": "995ef2b1-9f7e-4716-8bdc-ca40894624df"
            }
        },
        {
            "cell_type": "code",
            "source": [
                "function Add-Images($ScreenshotsFolder, $DocFile)\r\n",
                "{\r\n",
                "    $NoOfImageFiles = (Get-ChildItem -Recurse -ea 0 -File -path $ScreenshotsFolder -include \"*.jpg\").Length # | Measure-Object\r\n",
                "\r\n",
                "    $wdGoToPage = 1 # WdGoToItem enumerations\r\n",
                "    $wdGoToAbsolute = 1\r\n",
                "    $startingPageNum = 3\r\n",
                "\r\n",
                "    # Create MS Word application\r\n",
                "    $app = New-Object -ComObject \"Word.Application\"\r\n",
                "    $doc = $app.Documents.Open($DocFile)\r\n",
                "    $selection = $app.Selection # Create a selection object\r\n",
                "    \r\n",
                "    for ($i = $startingPageNum; $i -le $NoOfImageFiles; $i++) {\r\n",
                "        $ImageFile = $i.ToString() + \".jpg\"\r\n",
                "        if ($i -lt 10) {\r\n",
                "            $ImageFile = \"0\" + $ImageFile\r\n",
                "        }\r\n",
                "        $ImageFile = $ScreenshotsFolder + $ImageFile\r\n",
                "        $selection.GoTo($wdGoToPage, $wdGoToAbsolute, $i)\r\n",
                "\r\n",
                "        $FindText = \"[Screenshot]\"\r\n",
                "        $ReplaceWithText = \"\"\r\n",
                "\r\n",
                "        # Insert Urdu text into document\r\n",
                "        $replaceSuccess = $selection.Find.Execute($FindText,\r\n",
                "                                                        $true, # Match case\r\n",
                "                                                        $true, # Match whole word \r\n",
                "                                                        $false, # Match wild-cards\r\n",
                "                                                        $false, # Match sounds-like\r\n",
                "                                                        $false, # Match all word forms\r\n",
                "                                                        $true, # Search forward\r\n",
                "                                                        1, # Find operation continues if the beginning or end of the search range is reached\r\n",
                "                                                        $false, # Format\r\n",
                "                                                        $ReplaceWithText,\r\n",
                "                                                        1) # Replace the first occurrence encountered\r\n",
                "\r\n",
                "        $img = $selection.InlineShapes.AddPicture($ImageFile) # Insert screenshot into document\r\n",
                "        $img.Height = 177 #187.2 # Set image height\r\n",
                "        $img.Width = 318 # Set image width\r\n",
                "        $img.Borders[1].LineStyle = 1 # Set image border line style\r\n",
                "        $img.Borders[1].ColorIndex = 1 # Set image border color\r\n",
                "        $img.Borders[1].LineWidth = 2  # Set image border width\r\n",
                "    }\r\n",
                "\r\n",
                "    $app.Documents.Close($true)\r\n",
                "    $app.Quit()\r\n",
                "    Write-Host \"Done.\"\r\n",
                "}\r\n",
                "\r\n",
                "Add-Images -ScreenshotsFolder $outputFolder -DocFile $inputFile"
            ],
            "metadata": {
                "azdata_cell_guid": "dc86e3d5-e550-436a-a9b7-ee1d6c97de04"
            },
            "outputs": [],
            "execution_count": null
        },
        {
            "cell_type": "markdown",
            "source": [
                "### ٥۔ پائتھن - دستاویز کو محفوظ کرنا"
            ],
            "metadata": {
                "azdata_cell_guid": "75fdd6ce-f159-41e3-b2ae-3fc3b2dae213"
            }
        },
        {
            "cell_type": "markdown",
            "source": [
                "### 5\\. Python - Serialize document"
            ],
            "metadata": {
                "azdata_cell_guid": "850ce0f0-3b1d-4b56-b12a-534b15f46741"
            }
        },
        {
            "cell_type": "code",
            "source": [
                "jinja_env = jinja2.Environment(autoescape = True)\r\n",
                "PageTemplate.render(context, jinja_env)\r\n",
                "PageTemplate.save(WordDocumentName)\r\n",
                "print(\"Notes added.\")"
            ],
            "metadata": {
                "azdata_cell_guid": "018dac74-8035-4c7f-b1c5-ba040cdf02cd"
            },
            "outputs": [],
            "execution_count": null
        },
        {
            "cell_type": "markdown",
            "source": [
                "### ٠۔ پاورشیل - تصویری فائلوں کو حذف کرنا"
            ],
            "metadata": {
                "azdata_cell_guid": "11d46365-b4c0-4988-ad55-fb813081c510"
            }
        },
        {
            "cell_type": "markdown",
            "source": [
                "### 0\\. Powershell - Delete image files"
            ],
            "metadata": {
                "azdata_cell_guid": "6df15205-64de-40ed-9dea-085b88e41055"
            }
        },
        {
            "cell_type": "code",
            "source": [
                "\"Remove-Item -Path \" + outputFolder + \" -Include *.jpg\"\r\n",
                "Write-Host \"Screenshots deleted successfully.\""
            ],
            "metadata": {
                "azdata_cell_guid": "b5e61942-beb9-4439-8576-21cfa83ed49c"
            },
            "outputs": [],
            "execution_count": null
        }
    ]
}